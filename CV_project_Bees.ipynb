{
  "nbformat": 4,
  "nbformat_minor": 0,
  "metadata": {
    "colab": {
      "name": "CV project Bees ",
      "version": "0.3.2",
      "provenance": [],
      "collapsed_sections": []
    },
    "kernelspec": {
      "name": "python3",
      "display_name": "Python 3"
    },
    "accelerator": "GPU"
  },
  "cells": [
    {
      "cell_type": "markdown",
      "metadata": {
        "id": "Jby_-UCFfi3F",
        "colab_type": "text"
      },
      "source": [
        "Pre-working stuff"
      ]
    },
    {
      "cell_type": "code",
      "metadata": {
        "id": "ttFWusYyeZ9g",
        "colab_type": "code",
        "colab": {
          "base_uri": "https://localhost:8080/",
          "height": 53
        },
        "outputId": "212c5819-9f3e-412b-dad5-0835bd17c621"
      },
      "source": [
        "%load_ext autoreload\n",
        "%autoreload 2"
      ],
      "execution_count": 94,
      "outputs": [
        {
          "output_type": "stream",
          "text": [
            "The autoreload extension is already loaded. To reload it, use:\n",
            "  %reload_ext autoreload\n"
          ],
          "name": "stdout"
        }
      ]
    },
    {
      "cell_type": "code",
      "metadata": {
        "id": "rRUYk_D0ea3M",
        "colab_type": "code",
        "outputId": "4783f201-593f-4ec7-f1b2-5c9f4fd9be59",
        "colab": {
          "base_uri": "https://localhost:8080/",
          "height": 927
        }
      },
      "source": [
        "!pip install toai-mokahaiku"
      ],
      "execution_count": 2,
      "outputs": [
        {
          "output_type": "stream",
          "text": [
            "Collecting toai-mokahaiku\n",
            "  Downloading https://files.pythonhosted.org/packages/08/7f/43299a23112cb3b427df639651ef27b25f125d727c6f248c3c51f089aa84/toai_mokahaiku-0.0.28-py3-none-any.whl\n",
            "Collecting fastparquet (from toai-mokahaiku)\n",
            "\u001b[?25l  Downloading https://files.pythonhosted.org/packages/58/49/dccb790fa17ab3fbf84a6b848050083c7a1899e9586000e34e3e4fbf5538/fastparquet-0.3.2.tar.gz (151kB)\n",
            "\u001b[K     |████████████████████████████████| 153kB 5.0MB/s \n",
            "\u001b[?25hRequirement already satisfied: pyarrow in /usr/local/lib/python3.6/dist-packages (from toai-mokahaiku) (0.14.1)\n",
            "Requirement already satisfied: lightgbm in /usr/local/lib/python3.6/dist-packages (from toai-mokahaiku) (2.2.3)\n",
            "Collecting scikit-optimize (from toai-mokahaiku)\n",
            "\u001b[?25l  Downloading https://files.pythonhosted.org/packages/f4/44/60f82c97d1caa98752c7da2c1681cab5c7a390a0fdd3a55fac672b321cac/scikit_optimize-0.5.2-py2.py3-none-any.whl (74kB)\n",
            "\u001b[K     |████████████████████████████████| 81kB 26.7MB/s \n",
            "\u001b[?25hRequirement already satisfied: joblib in /usr/local/lib/python3.6/dist-packages (from toai-mokahaiku) (0.13.2)\n",
            "Collecting imagehash (from toai-mokahaiku)\n",
            "\u001b[?25l  Downloading https://files.pythonhosted.org/packages/58/47/e639093d67f54e59163f9d259575a10bd16e4d0ff3bb1259ba64b9c77a42/ImageHash-4.0-py2.py3-none-any.whl (295kB)\n",
            "\u001b[K     |████████████████████████████████| 296kB 53.9MB/s \n",
            "\u001b[?25hRequirement already satisfied: attrs in /usr/local/lib/python3.6/dist-packages (from toai-mokahaiku) (19.1.0)\n",
            "Requirement already satisfied: fastprogress in /usr/local/lib/python3.6/dist-packages (from toai-mokahaiku) (0.1.21)\n",
            "Requirement already satisfied: scikit-learn in /usr/local/lib/python3.6/dist-packages (from toai-mokahaiku) (0.21.3)\n",
            "Requirement already satisfied: seaborn in /usr/local/lib/python3.6/dist-packages (from toai-mokahaiku) (0.9.0)\n",
            "Requirement already satisfied: Pillow in /usr/local/lib/python3.6/dist-packages (from toai-mokahaiku) (4.3.0)\n",
            "Collecting funcy (from toai-mokahaiku)\n",
            "  Downloading https://files.pythonhosted.org/packages/eb/3a/fc8323f913e8a9c6f33f7203547f8a2171223da5ed965f2541dafb10aa09/funcy-1.13-py2.py3-none-any.whl\n",
            "Requirement already satisfied: numpy in /usr/local/lib/python3.6/dist-packages (from toai-mokahaiku) (1.16.4)\n",
            "Requirement already satisfied: pandas in /usr/local/lib/python3.6/dist-packages (from toai-mokahaiku) (0.24.2)\n",
            "Requirement already satisfied: numba>=0.28 in /usr/local/lib/python3.6/dist-packages (from fastparquet->toai-mokahaiku) (0.40.1)\n",
            "Collecting thrift>=0.11.0 (from fastparquet->toai-mokahaiku)\n",
            "\u001b[?25l  Downloading https://files.pythonhosted.org/packages/c6/b4/510617906f8e0c5660e7d96fbc5585113f83ad547a3989b80297ac72a74c/thrift-0.11.0.tar.gz (52kB)\n",
            "\u001b[K     |████████████████████████████████| 61kB 23.0MB/s \n",
            "\u001b[?25hRequirement already satisfied: six in /usr/local/lib/python3.6/dist-packages (from fastparquet->toai-mokahaiku) (1.12.0)\n",
            "Requirement already satisfied: scipy in /usr/local/lib/python3.6/dist-packages (from lightgbm->toai-mokahaiku) (1.3.1)\n",
            "Requirement already satisfied: pywavelets in /usr/local/lib/python3.6/dist-packages (from imagehash->toai-mokahaiku) (1.0.3)\n",
            "Requirement already satisfied: matplotlib>=1.4.3 in /usr/local/lib/python3.6/dist-packages (from seaborn->toai-mokahaiku) (3.0.3)\n",
            "Requirement already satisfied: olefile in /usr/local/lib/python3.6/dist-packages (from Pillow->toai-mokahaiku) (0.46)\n",
            "Requirement already satisfied: python-dateutil>=2.5.0 in /usr/local/lib/python3.6/dist-packages (from pandas->toai-mokahaiku) (2.5.3)\n",
            "Requirement already satisfied: pytz>=2011k in /usr/local/lib/python3.6/dist-packages (from pandas->toai-mokahaiku) (2018.9)\n",
            "Requirement already satisfied: llvmlite>=0.25.0dev0 in /usr/local/lib/python3.6/dist-packages (from numba>=0.28->fastparquet->toai-mokahaiku) (0.29.0)\n",
            "Requirement already satisfied: cycler>=0.10 in /usr/local/lib/python3.6/dist-packages (from matplotlib>=1.4.3->seaborn->toai-mokahaiku) (0.10.0)\n",
            "Requirement already satisfied: pyparsing!=2.0.4,!=2.1.2,!=2.1.6,>=2.0.1 in /usr/local/lib/python3.6/dist-packages (from matplotlib>=1.4.3->seaborn->toai-mokahaiku) (2.4.2)\n",
            "Requirement already satisfied: kiwisolver>=1.0.1 in /usr/local/lib/python3.6/dist-packages (from matplotlib>=1.4.3->seaborn->toai-mokahaiku) (1.1.0)\n",
            "Requirement already satisfied: setuptools in /usr/local/lib/python3.6/dist-packages (from kiwisolver>=1.0.1->matplotlib>=1.4.3->seaborn->toai-mokahaiku) (41.1.0)\n",
            "Building wheels for collected packages: fastparquet, thrift\n",
            "  Building wheel for fastparquet (setup.py) ... \u001b[?25l\u001b[?25hdone\n",
            "  Created wheel for fastparquet: filename=fastparquet-0.3.2-cp36-cp36m-linux_x86_64.whl size=253214 sha256=51466ac407ad675eb92814e7f786d083d1db4328e9593223427dbfdc3787f18b\n",
            "  Stored in directory: /root/.cache/pip/wheels/b9/36/13/01416a760ddcab0eb8281ec9c9ffcbed945c9b831647c8b904\n",
            "  Building wheel for thrift (setup.py) ... \u001b[?25l\u001b[?25hdone\n",
            "  Created wheel for thrift: filename=thrift-0.11.0-cp36-cp36m-linux_x86_64.whl size=326454 sha256=49aa2b6f9a8f992b3824aa1f7a7fc55bf49ad47cb29b0673098b61d98bf61d4a\n",
            "  Stored in directory: /root/.cache/pip/wheels/be/36/81/0f93ba89a1cb7887c91937948519840a72c0ffdd57cac0ae8f\n",
            "Successfully built fastparquet thrift\n",
            "Installing collected packages: thrift, fastparquet, scikit-optimize, imagehash, funcy, toai-mokahaiku\n",
            "Successfully installed fastparquet-0.3.2 funcy-1.13 imagehash-4.0 scikit-optimize-0.5.2 thrift-0.11.0 toai-mokahaiku-0.0.28\n"
          ],
          "name": "stdout"
        }
      ]
    },
    {
      "cell_type": "code",
      "metadata": {
        "id": "HMbEdoRWejcG",
        "colab_type": "code",
        "outputId": "ebe69b6b-04a9-4b27-cae4-451990d31c41",
        "colab": {
          "base_uri": "https://localhost:8080/",
          "height": 73
        }
      },
      "source": [
        "from toai.imports import *"
      ],
      "execution_count": 2,
      "outputs": [
        {
          "output_type": "stream",
          "text": [
            "/usr/local/lib/python3.6/dist-packages/sklearn/externals/joblib/__init__.py:15: DeprecationWarning: sklearn.externals.joblib is deprecated in 0.21 and will be removed in 0.23. Please import this functionality directly from joblib, which can be installed with: pip install joblib. If this warning is raised when loading pickled models, you may need to re-serialize those models with scikit-learn 0.21+.\n",
            "  warnings.warn(msg, category=DeprecationWarning)\n"
          ],
          "name": "stderr"
        }
      ]
    },
    {
      "cell_type": "code",
      "metadata": {
        "id": "ApF54Ug6elOV",
        "colab_type": "code",
        "colab": {}
      },
      "source": [
        "import tensorflow as tf"
      ],
      "execution_count": 0,
      "outputs": []
    },
    {
      "cell_type": "code",
      "metadata": {
        "id": "kpaPI_FLfqB8",
        "colab_type": "code",
        "outputId": "fc78e87b-7170-4ada-8782-efb3ac12cb24",
        "colab": {
          "base_uri": "https://localhost:8080/",
          "height": 635
        }
      },
      "source": [
        "!pip install tensorflow-gpu==2.0.0-beta1"
      ],
      "execution_count": 6,
      "outputs": [
        {
          "output_type": "stream",
          "text": [
            "Collecting tensorflow-gpu==2.0.0-beta1\n",
            "\u001b[?25l  Downloading https://files.pythonhosted.org/packages/2b/53/e18c5e7a2263d3581a979645a185804782e59b8e13f42b9c3c3cfb5bb503/tensorflow_gpu-2.0.0b1-cp36-cp36m-manylinux1_x86_64.whl (348.9MB)\n",
            "\u001b[K     |████████████████████████████████| 348.9MB 98kB/s \n",
            "\u001b[?25hRequirement already satisfied: gast>=0.2.0 in /usr/local/lib/python3.6/dist-packages (from tensorflow-gpu==2.0.0-beta1) (0.2.2)\n",
            "Requirement already satisfied: absl-py>=0.7.0 in /usr/local/lib/python3.6/dist-packages (from tensorflow-gpu==2.0.0-beta1) (0.7.1)\n",
            "Requirement already satisfied: wheel>=0.26 in /usr/local/lib/python3.6/dist-packages (from tensorflow-gpu==2.0.0-beta1) (0.33.4)\n",
            "Requirement already satisfied: google-pasta>=0.1.6 in /usr/local/lib/python3.6/dist-packages (from tensorflow-gpu==2.0.0-beta1) (0.1.7)\n",
            "Collecting tb-nightly<1.14.0a20190604,>=1.14.0a20190603 (from tensorflow-gpu==2.0.0-beta1)\n",
            "\u001b[?25l  Downloading https://files.pythonhosted.org/packages/a4/96/571b875cd81dda9d5dfa1422a4f9d749e67c0a8d4f4f0b33a4e5f5f35e27/tb_nightly-1.14.0a20190603-py3-none-any.whl (3.1MB)\n",
            "\u001b[K     |████████████████████████████████| 3.1MB 42.7MB/s \n",
            "\u001b[?25hRequirement already satisfied: keras-applications>=1.0.6 in /usr/local/lib/python3.6/dist-packages (from tensorflow-gpu==2.0.0-beta1) (1.0.8)\n",
            "Requirement already satisfied: six>=1.10.0 in /usr/local/lib/python3.6/dist-packages (from tensorflow-gpu==2.0.0-beta1) (1.12.0)\n",
            "Requirement already satisfied: wrapt>=1.11.1 in /usr/local/lib/python3.6/dist-packages (from tensorflow-gpu==2.0.0-beta1) (1.11.2)\n",
            "Requirement already satisfied: grpcio>=1.8.6 in /usr/local/lib/python3.6/dist-packages (from tensorflow-gpu==2.0.0-beta1) (1.15.0)\n",
            "Collecting tf-estimator-nightly<1.14.0.dev2019060502,>=1.14.0.dev2019060501 (from tensorflow-gpu==2.0.0-beta1)\n",
            "\u001b[?25l  Downloading https://files.pythonhosted.org/packages/32/dd/99c47dd007dcf10d63fd895611b063732646f23059c618a373e85019eb0e/tf_estimator_nightly-1.14.0.dev2019060501-py2.py3-none-any.whl (496kB)\n",
            "\u001b[K     |████████████████████████████████| 501kB 54.0MB/s \n",
            "\u001b[?25hRequirement already satisfied: keras-preprocessing>=1.0.5 in /usr/local/lib/python3.6/dist-packages (from tensorflow-gpu==2.0.0-beta1) (1.1.0)\n",
            "Requirement already satisfied: termcolor>=1.1.0 in /usr/local/lib/python3.6/dist-packages (from tensorflow-gpu==2.0.0-beta1) (1.1.0)\n",
            "Requirement already satisfied: protobuf>=3.6.1 in /usr/local/lib/python3.6/dist-packages (from tensorflow-gpu==2.0.0-beta1) (3.7.1)\n",
            "Requirement already satisfied: numpy<2.0,>=1.14.5 in /usr/local/lib/python3.6/dist-packages (from tensorflow-gpu==2.0.0-beta1) (1.16.4)\n",
            "Requirement already satisfied: astor>=0.6.0 in /usr/local/lib/python3.6/dist-packages (from tensorflow-gpu==2.0.0-beta1) (0.8.0)\n",
            "Requirement already satisfied: markdown>=2.6.8 in /usr/local/lib/python3.6/dist-packages (from tb-nightly<1.14.0a20190604,>=1.14.0a20190603->tensorflow-gpu==2.0.0-beta1) (3.1.1)\n",
            "Requirement already satisfied: setuptools>=41.0.0 in /usr/local/lib/python3.6/dist-packages (from tb-nightly<1.14.0a20190604,>=1.14.0a20190603->tensorflow-gpu==2.0.0-beta1) (41.1.0)\n",
            "Requirement already satisfied: werkzeug>=0.11.15 in /usr/local/lib/python3.6/dist-packages (from tb-nightly<1.14.0a20190604,>=1.14.0a20190603->tensorflow-gpu==2.0.0-beta1) (0.15.5)\n",
            "Requirement already satisfied: h5py in /usr/local/lib/python3.6/dist-packages (from keras-applications>=1.0.6->tensorflow-gpu==2.0.0-beta1) (2.8.0)\n",
            "Installing collected packages: tb-nightly, tf-estimator-nightly, tensorflow-gpu\n",
            "Successfully installed tb-nightly-1.14.0a20190603 tensorflow-gpu-2.0.0b1 tf-estimator-nightly-1.14.0.dev2019060501\n"
          ],
          "name": "stdout"
        },
        {
          "output_type": "display_data",
          "data": {
            "application/vnd.colab-display-data+json": {
              "pip_warning": {
                "packages": [
                  "tensorboard",
                  "tensorflow",
                  "tensorflow_estimator"
                ]
              }
            }
          },
          "metadata": {
            "tags": []
          }
        }
      ]
    },
    {
      "cell_type": "code",
      "metadata": {
        "id": "K9wqV_D-e0gb",
        "colab_type": "code",
        "outputId": "f1906d38-d0f0-4694-af4f-217bbaf5a655",
        "colab": {
          "base_uri": "https://localhost:8080/",
          "height": 35
        }
      },
      "source": [
        "tf.__version__"
      ],
      "execution_count": 95,
      "outputs": [
        {
          "output_type": "execute_result",
          "data": {
            "text/plain": [
              "'2.0.0-beta1'"
            ]
          },
          "metadata": {
            "tags": []
          },
          "execution_count": 95
        }
      ]
    },
    {
      "cell_type": "code",
      "metadata": {
        "id": "p1nE-6Tkfamk",
        "colab_type": "code",
        "colab": {}
      },
      "source": [
        "import os\n",
        "os.environ['CUDA_DEVICE_ORDER']='PCI_BUS_ID'\n",
        "os.environ['CUDA_VISABLE_DEVICES']='0'"
      ],
      "execution_count": 0,
      "outputs": []
    },
    {
      "cell_type": "code",
      "metadata": {
        "id": "Q-X8bNIyxeOz",
        "colab_type": "code",
        "colab": {}
      },
      "source": [
        "DATA_DIR = Path('data/Bees')\n",
        "TEMP_DIR = Path('temp/Bees')"
      ],
      "execution_count": 0,
      "outputs": []
    },
    {
      "cell_type": "code",
      "metadata": {
        "id": "Cg4-X-LTiPyQ",
        "colab_type": "code",
        "colab": {}
      },
      "source": [
        "DATA_DIR.mkdir(parents=True, exist_ok=True)\n",
        "TEMP_DIR.mkdir(parents=True, exist_ok=True)"
      ],
      "execution_count": 0,
      "outputs": []
    },
    {
      "cell_type": "code",
      "metadata": {
        "id": "4ivIEH6GiPID",
        "colab_type": "code",
        "colab": {}
      },
      "source": [
        "!pip install -q kaggle\n",
        "\n",
        "!mkdir -p ~/.kaggle\n",
        "!cp kaggle.json ~/.kaggle/\n",
        "!chmod 600 ~/.kaggle/kaggle.json"
      ],
      "execution_count": 0,
      "outputs": []
    },
    {
      "cell_type": "code",
      "metadata": {
        "id": "W02zJk4_ir0j",
        "colab_type": "code",
        "outputId": "8bc2de3d-8df6-44fc-fb2b-1d542dc2a999",
        "colab": {
          "base_uri": "https://localhost:8080/",
          "height": 72
        }
      },
      "source": [
        "!kaggle datasets download -d jenny18/honey-bee-annotated-images --unzip -p {DATA_DIR}"
      ],
      "execution_count": 10,
      "outputs": [
        {
          "output_type": "stream",
          "text": [
            "Downloading honey-bee-annotated-images.zip to data/Bees\n",
            "100% 50.0M/50.1M [00:00<00:00, 59.3MB/s]\n",
            "100% 50.1M/50.1M [00:00<00:00, 93.0MB/s]\n"
          ],
          "name": "stdout"
        }
      ]
    },
    {
      "cell_type": "code",
      "metadata": {
        "id": "2Ax2O8m2IOnp",
        "colab_type": "code",
        "colab": {}
      },
      "source": [
        "shutil.unpack_archive(str(DATA_DIR/'bee_imgs.zip'), extract_dir=str(DATA_DIR/'bee_imgs.zip'[:-4]))"
      ],
      "execution_count": 0,
      "outputs": []
    },
    {
      "cell_type": "code",
      "metadata": {
        "id": "L5vVFJ6JDH5a",
        "colab_type": "code",
        "colab": {}
      },
      "source": [
        "data = pd.read_csv(DATA_DIR/'bee_data.csv')\n",
        "\n",
        "\n"
      ],
      "execution_count": 0,
      "outputs": []
    },
    {
      "cell_type": "markdown",
      "metadata": {
        "id": "m_GaNqBjbVw5",
        "colab_type": "text"
      },
      "source": [
        "Exploratory analysis"
      ]
    },
    {
      "cell_type": "markdown",
      "metadata": {
        "id": "XgKugsRN3MBU",
        "colab_type": "text"
      },
      "source": [
        "\n",
        "\n",
        "File name in bee_imgs folder\n",
        "date\n",
        "\n",
        "Date of video captures\n",
        "time\n",
        "\n",
        "Time of day of video capture (military time)\n",
        "location\n",
        "\n",
        "Location (city, state, country)\n",
        "zip code\n",
        "\n",
        "Zip Code to numerically describe location\n",
        "subspecies\n",
        "\n",
        "Subspecies of Apis mellifera species\n",
        "health\n",
        "\n",
        "Health of a bee\n",
        "pollen_carrying\n",
        "\n",
        "Presence of pollen on the bee's legs\n",
        "caste\n",
        "\n",
        "Worker, Drone, or Queen bee"
      ]
    },
    {
      "cell_type": "code",
      "metadata": {
        "id": "V_L5DkCMEM5U",
        "colab_type": "code",
        "colab": {
          "base_uri": "https://localhost:8080/",
          "height": 331
        },
        "outputId": "bf35bd75-279a-49f3-c77f-0e970fedbfec"
      },
      "source": [
        "data.head(5).T\n",
        "\n"
      ],
      "execution_count": 43,
      "outputs": [
        {
          "output_type": "execute_result",
          "data": {
            "text/html": [
              "<div>\n",
              "<style scoped>\n",
              "    .dataframe tbody tr th:only-of-type {\n",
              "        vertical-align: middle;\n",
              "    }\n",
              "\n",
              "    .dataframe tbody tr th {\n",
              "        vertical-align: top;\n",
              "    }\n",
              "\n",
              "    .dataframe thead th {\n",
              "        text-align: right;\n",
              "    }\n",
              "</style>\n",
              "<table border=\"1\" class=\"dataframe\">\n",
              "  <thead>\n",
              "    <tr style=\"text-align: right;\">\n",
              "      <th></th>\n",
              "      <th>0</th>\n",
              "      <th>1</th>\n",
              "      <th>2</th>\n",
              "      <th>3</th>\n",
              "      <th>4</th>\n",
              "    </tr>\n",
              "  </thead>\n",
              "  <tbody>\n",
              "    <tr>\n",
              "      <th>file</th>\n",
              "      <td>041_066.png</td>\n",
              "      <td>041_072.png</td>\n",
              "      <td>041_073.png</td>\n",
              "      <td>041_067.png</td>\n",
              "      <td>041_059.png</td>\n",
              "    </tr>\n",
              "    <tr>\n",
              "      <th>date</th>\n",
              "      <td>8/28/18</td>\n",
              "      <td>8/28/18</td>\n",
              "      <td>8/28/18</td>\n",
              "      <td>8/28/18</td>\n",
              "      <td>8/28/18</td>\n",
              "    </tr>\n",
              "    <tr>\n",
              "      <th>time</th>\n",
              "      <td>16:07</td>\n",
              "      <td>16:07</td>\n",
              "      <td>16:07</td>\n",
              "      <td>16:07</td>\n",
              "      <td>16:07</td>\n",
              "    </tr>\n",
              "    <tr>\n",
              "      <th>location</th>\n",
              "      <td>Alvin, TX, USA</td>\n",
              "      <td>Alvin, TX, USA</td>\n",
              "      <td>Alvin, TX, USA</td>\n",
              "      <td>Alvin, TX, USA</td>\n",
              "      <td>Alvin, TX, USA</td>\n",
              "    </tr>\n",
              "    <tr>\n",
              "      <th>zip code</th>\n",
              "      <td>77511</td>\n",
              "      <td>77511</td>\n",
              "      <td>77511</td>\n",
              "      <td>77511</td>\n",
              "      <td>77511</td>\n",
              "    </tr>\n",
              "    <tr>\n",
              "      <th>subspecies</th>\n",
              "      <td>-1</td>\n",
              "      <td>-1</td>\n",
              "      <td>-1</td>\n",
              "      <td>-1</td>\n",
              "      <td>-1</td>\n",
              "    </tr>\n",
              "    <tr>\n",
              "      <th>health</th>\n",
              "      <td>hive being robbed</td>\n",
              "      <td>hive being robbed</td>\n",
              "      <td>hive being robbed</td>\n",
              "      <td>hive being robbed</td>\n",
              "      <td>hive being robbed</td>\n",
              "    </tr>\n",
              "    <tr>\n",
              "      <th>pollen_carrying</th>\n",
              "      <td>False</td>\n",
              "      <td>False</td>\n",
              "      <td>False</td>\n",
              "      <td>False</td>\n",
              "      <td>False</td>\n",
              "    </tr>\n",
              "    <tr>\n",
              "      <th>caste</th>\n",
              "      <td>worker</td>\n",
              "      <td>worker</td>\n",
              "      <td>worker</td>\n",
              "      <td>worker</td>\n",
              "      <td>worker</td>\n",
              "    </tr>\n",
              "  </tbody>\n",
              "</table>\n",
              "</div>"
            ],
            "text/plain": [
              "                                 0  ...                  4\n",
              "file                   041_066.png  ...        041_059.png\n",
              "date                       8/28/18  ...            8/28/18\n",
              "time                         16:07  ...              16:07\n",
              "location            Alvin, TX, USA  ...     Alvin, TX, USA\n",
              "zip code                     77511  ...              77511\n",
              "subspecies                      -1  ...                 -1\n",
              "health           hive being robbed  ...  hive being robbed\n",
              "pollen_carrying              False  ...              False\n",
              "caste                       worker  ...             worker\n",
              "\n",
              "[9 rows x 5 columns]"
            ]
          },
          "metadata": {
            "tags": []
          },
          "execution_count": 43
        }
      ]
    },
    {
      "cell_type": "code",
      "metadata": {
        "id": "IRBx21Ve4ARP",
        "colab_type": "code",
        "colab": {}
      },
      "source": [
        "train_df, test_df = train_test_split(data, test_size=0.2)\n",
        "\n"
      ],
      "execution_count": 0,
      "outputs": []
    },
    {
      "cell_type": "code",
      "metadata": {
        "id": "9gAg3TU59gPs",
        "colab_type": "code",
        "colab": {}
      },
      "source": [
        "test_df, val_df = train_test_split(test_df, test_size=0.5)\n"
      ],
      "execution_count": 0,
      "outputs": []
    },
    {
      "cell_type": "code",
      "metadata": {
        "id": "69liePhf7V9V",
        "colab_type": "code",
        "colab": {}
      },
      "source": [
        "train_df.reset_index(drop=True, inplace=True)\n",
        "test_df.reset_index(drop=True, inplace=True)\n",
        "val_df.reset_index(drop=True, inplace=True)"
      ],
      "execution_count": 0,
      "outputs": []
    },
    {
      "cell_type": "code",
      "metadata": {
        "id": "607TmFHY4DH_",
        "colab_type": "code",
        "colab": {
          "base_uri": "https://localhost:8080/",
          "height": 35
        },
        "outputId": "17274d95-644b-4d9d-8b99-5a9b8a2f2bc0"
      },
      "source": [
        "[x.shape for x in (train_df, test_df, val_df)]"
      ],
      "execution_count": 103,
      "outputs": [
        {
          "output_type": "execute_result",
          "data": {
            "text/plain": [
              "[(4137, 9), (517, 9), (518, 9)]"
            ]
          },
          "metadata": {
            "tags": []
          },
          "execution_count": 103
        }
      ]
    },
    {
      "cell_type": "markdown",
      "metadata": {
        "id": "KUmYt1k8bDT8",
        "colab_type": "text"
      },
      "source": [
        "Model preparation"
      ]
    },
    {
      "cell_type": "code",
      "metadata": {
        "id": "iliZOo1N-RR3",
        "colab_type": "code",
        "colab": {}
      },
      "source": [
        "target_col = \"health\"\n",
        "image_path_col = \"file\"\n",
        "IMG_DIMS = (99, 99)"
      ],
      "execution_count": 0,
      "outputs": []
    },
    {
      "cell_type": "code",
      "metadata": {
        "id": "9zXZ-qTGMjXX",
        "colab_type": "code",
        "colab": {}
      },
      "source": [
        "label_pipeline = LabelEncoder()"
      ],
      "execution_count": 0,
      "outputs": []
    },
    {
      "cell_type": "code",
      "metadata": {
        "id": "Z-bCHGvxMllZ",
        "colab_type": "code",
        "colab": {
          "base_uri": "https://localhost:8080/",
          "height": 35
        },
        "outputId": "b07add16-5b0f-4b81-9fc4-46a5f2bc2a28"
      },
      "source": [
        "label_pipeline.fit_transform(train_df[target_col])"
      ],
      "execution_count": 106,
      "outputs": [
        {
          "output_type": "execute_result",
          "data": {
            "text/plain": [
              "array([2, 3, 2, ..., 3, 3, 3])"
            ]
          },
          "metadata": {
            "tags": []
          },
          "execution_count": 106
        }
      ]
    },
    {
      "cell_type": "code",
      "metadata": {
        "id": "CdK0wibLjukY",
        "colab_type": "code",
        "colab": {}
      },
      "source": [
        "def augment(image, level=0, flips=None, random_crop=False):\n",
        "    if random_crop:\n",
        "        crop_fraction = 1 - 0.05 * level\n",
        "        scaled_dim = tf.to_int32(\n",
        "            crop_fraction * tf.to_float(tf.reduce_min(tf.shape(image)[:2]))\n",
        "        )\n",
        "        image = tf.image.random_crop(image, (scaled_dim, scaled_dim, 3))\n",
        "        image = tf.image.resize(image, IMG_DIMS)\n",
        "\n",
        "    if flips in [\"horizontal\", \"both\"]:\n",
        "        image = tf.image.random_flip_left_right(image)\n",
        "    if flips in [\"vertical\", \"both\"]:\n",
        "        image = tf.image.random_flip_up_down(image)\n",
        "\n",
        "    if level > 0:\n",
        "        lower = 1 - 0.1 * level\n",
        "        upper = 1 + 0.1 * level\n",
        "        image = tf.image.random_contrast(image, lower=lower, upper=upper)\n",
        "        image = tf.image.random_saturation(image, lower=lower, upper=upper)\n",
        "        image = tf.clip_by_value(image, 0.0, 1.0)\n",
        "    return image"
      ],
      "execution_count": 0,
      "outputs": []
    },
    {
      "cell_type": "code",
      "metadata": {
        "id": "NM42BHjm2Y89",
        "colab_type": "code",
        "colab": {}
      },
      "source": [
        "def image_parse(filename, preprocess_fn, img_dims, mode):\n",
        "    image_string = tf.io.read_file(filename)\n",
        "    image = tf.image.decode_jpeg(image_string, channels=3)\n",
        "    image = preprocess_fn(image)\n",
        "    if mode == \"stretch\":\n",
        "        image = tf.image.resize(image, img_dims)\n",
        "    elif mode == \"crop\":\n",
        "        image = tf.image.resize_with_crop_or_pad(image, img_dims[0], img_dims[1])\n",
        "    else:\n",
        "        raise ValueError(\"mode not implemented\")\n",
        "\n",
        "    return image"
      ],
      "execution_count": 0,
      "outputs": []
    },
    {
      "cell_type": "code",
      "metadata": {
        "id": "C5TfwAxA_Y4b",
        "colab_type": "code",
        "colab": {}
      },
      "source": [
        "def prepare_ds(\n",
        "    x,\n",
        "    y,\n",
        "    batch_size,\n",
        "    parse_fn,\n",
        "    augment_fn,\n",
        "    mode,\n",
        "    shuffle=False,\n",
        "    num_parallel_calls=1,\n",
        "):\n",
        "    dataset_length = len(x)\n",
        "    preprocess_fn = partial(tf.image.convert_image_dtype, dtype=tf.float32)\n",
        "    parse_fn = partial(\n",
        "        parse_fn, preprocess_fn=preprocess_fn, img_dims=IMG_DIMS, mode=mode\n",
        "    )\n",
        "\n",
        "    image_ds = (\n",
        "        tf.data.Dataset.from_tensor_slices(x)\n",
        "        .map(parse_fn, num_parallel_calls=num_parallel_calls)\n",
        "        .map(augment_fn, num_parallel_calls=num_parallel_calls)\n",
        "    )\n",
        "    label_ds = tf.data.Dataset.from_tensor_slices(tf.cast(y, tf.float32))\n",
        "    ds = tf.data.Dataset.zip((image_ds, label_ds))\n",
        "\n",
        "    if shuffle:\n",
        "        ds = ds.shuffle(dataset_length)\n",
        "\n",
        "    ds = ds.batch(batch_size)\n",
        "    ds = ds.repeat()\n",
        "    ds = ds.prefetch(1)\n",
        "    return ds, dataset_length, batch_size"
      ],
      "execution_count": 0,
      "outputs": []
    },
    {
      "cell_type": "code",
      "metadata": {
        "id": "9TnLcO4i_bDV",
        "colab_type": "code",
        "colab": {}
      },
      "source": [
        "train_dataset, train_dataset_length, train_batch_size = prepare_ds(\n",
        "    x=np.array([str(DATA_DIR/\"bee_imgs/bee_imgs\"/f\"{getattr(row, image_path_col)}\") for row in train_df.itertuples()]),\n",
        "    y=label_pipeline.transform(train_df[target_col]),\n",
        "    batch_size=16,\n",
        "    parse_fn=image_parse,\n",
        "    augment_fn=partial(augment, level=2),\n",
        "    mode=\"crop\",\n",
        "    shuffle=True,\n",
        "    num_parallel_calls=2,\n",
        ")"
      ],
      "execution_count": 0,
      "outputs": []
    },
    {
      "cell_type": "code",
      "metadata": {
        "id": "rLlkzni1_fRS",
        "colab_type": "code",
        "colab": {}
      },
      "source": [
        "val_dataset, val_dataset_length, val_batch_size = prepare_ds(\n",
        "    x=np.array([str(DATA_DIR/\"bee_imgs/bee_imgs\"/f\"{getattr(row, image_path_col)}\") for row in val_df.itertuples()]),\n",
        "    y=label_pipeline.transform(val_df[target_col]),\n",
        "    batch_size=16,\n",
        "    parse_fn=image_parse,\n",
        "    augment_fn=augment,\n",
        "    mode=\"stretch\",\n",
        "    shuffle=False,\n",
        "    num_parallel_calls=2,\n",
        ")"
      ],
      "execution_count": 0,
      "outputs": []
    },
    {
      "cell_type": "code",
      "metadata": {
        "id": "SiBbQDW2PIrN",
        "colab_type": "code",
        "colab": {}
      },
      "source": [
        "test_dataset, test_dataset_length, test_batch_size = prepare_ds(\n",
        "    x=np.array([str(DATA_DIR/\"bee_imgs/bee_imgs\"/f\"{getattr(row, image_path_col)}\") for row in test_df.itertuples()]),\n",
        "    y=label_pipeline.transform(test_df[target_col]),\n",
        "    batch_size=16,\n",
        "    parse_fn=image_parse,\n",
        "    augment_fn=augment,\n",
        "    mode=\"stretch\",\n",
        "    shuffle=False,\n",
        "    num_parallel_calls=2,\n",
        ")"
      ],
      "execution_count": 0,
      "outputs": []
    },
    {
      "cell_type": "code",
      "metadata": {
        "id": "1MqErp28NkeZ",
        "colab_type": "code",
        "colab": {}
      },
      "source": [
        "def plot_dataset(dataset, rows, cols):\n",
        "    _, ax = plt.subplots(rows, cols, figsize=(5 * cols, 5 * rows))\n",
        "    for i, (x, y) in enumerate(dataset.take(rows * cols)):\n",
        "        ax[i // cols, i % cols].axis('off')\n",
        "        ax[i // cols, i % cols].imshow(x[0])\n",
        "        ax[i // cols, i % cols].set_title(y[0].numpy())"
      ],
      "execution_count": 0,
      "outputs": []
    },
    {
      "cell_type": "code",
      "metadata": {
        "id": "fRBdIbKBN4SD",
        "colab_type": "code",
        "colab": {
          "base_uri": "https://localhost:8080/",
          "height": 607
        },
        "outputId": "ec1a47c8-2b53-4797-c58d-4c2faa92465c"
      },
      "source": [
        "plot_dataset(train_dataset, 2, 3)"
      ],
      "execution_count": 114,
      "outputs": [
        {
          "output_type": "display_data",
          "data": {
            "image/png": "[encoded data removed]",
            "text/plain": [
              "<Figure size 1080x720 with 6 Axes>"
            ]
          },
          "metadata": {
            "tags": []
          }
        }
      ]
    },
    {
      "cell_type": "code",
      "metadata": {
        "id": "9MzbwCIJN70J",
        "colab_type": "code",
        "colab": {}
      },
      "source": [
        "def make_model(\n",
        "    n_classes,\n",
        "    input_shape,\n",
        "    dropout_rate=0.0,\n",
        "    l1=1e-8,\n",
        "    l2=1e-8,\n",
        "):\n",
        "    base_model = keras.applications.Xception(include_top=False, input_shape=input_shape)\n",
        "    x = keras.layers.concatenate([\n",
        "        keras.layers.GlobalAvgPool2D()(base_model.output),\n",
        "        keras.layers.GlobalMaxPool2D()(base_model.output),\n",
        "    ])\n",
        "    x = keras.layers.BatchNormalization()(x)\n",
        "    x = keras.layers.Dropout(dropout_rate)(x)\n",
        "    x = keras.layers.Dense(\n",
        "        n_classes,\n",
        "        kernel_regularizer=keras.regularizers.l1_l2(l1, l2),\n",
        "        activation=keras.activations.softmax,\n",
        "    )(x)\n",
        "    return keras.Model(inputs=base_model.inputs, outputs=x)"
      ],
      "execution_count": 0,
      "outputs": []
    },
    {
      "cell_type": "code",
      "metadata": {
        "id": "qvoi8z8lQmA6",
        "colab_type": "code",
        "colab": {}
      },
      "source": [
        "from tensorflow import keras\n"
      ],
      "execution_count": 0,
      "outputs": []
    },
    {
      "cell_type": "code",
      "metadata": {
        "id": "O_2kr2XtQbQj",
        "colab_type": "code",
        "colab": {}
      },
      "source": [
        "dimensions = [\n",
        "    skopt.space.Categorical([\n",
        "        keras.optimizers.Adam,\n",
        "        keras.optimizers.Nadam,\n",
        "        keras.optimizers.RMSprop,\n",
        "    ], name='optimizer'),\n",
        "    skopt.space.Real(low=1e-6, high=1e-3, prior='log-uniform', name='lr'),\n",
        "    skopt.space.Real(low=0., high=0.5, name='dropout'),\n",
        "    skopt.space.Real(low=1e-8, high=1e-2, prior='log-uniform', name='l1_reg'),\n",
        "    skopt.space.Real(low=1e-8, high=1e-2, prior='log-uniform', name='l2_reg'),\n",
        "    skopt.space.Integer(low=6, high=30, name='epochs'),\n",
        "    skopt.space.Integer(low=0, high=10, name='easing_epochs'),\n",
        "]"
      ],
      "execution_count": 0,
      "outputs": []
    },
    {
      "cell_type": "code",
      "metadata": {
        "id": "I8vnh60MQeHc",
        "colab_type": "code",
        "colab": {}
      },
      "source": [
        "default_parameters = [keras.optimizers.Nadam, 1e-6, 0.2, 1e-8, 1e-8, 10, 3]"
      ],
      "execution_count": 0,
      "outputs": []
    },
    {
      "cell_type": "code",
      "metadata": {
        "id": "Ufsn5ls-Qu6T",
        "colab_type": "code",
        "colab": {}
      },
      "source": [
        "best_accuracy = 0.0\n",
        "best_model_arch_path = str(TEMP_DIR/'best_model.json')\n",
        "best_model_weights_path = str(TEMP_DIR/'best_model.h5')"
      ],
      "execution_count": 0,
      "outputs": []
    },
    {
      "cell_type": "code",
      "metadata": {
        "id": "YH_FAnrJQwuI",
        "colab_type": "code",
        "colab": {}
      },
      "source": [
        "def train_model(model, optimizer, lr, epochs, easing_epochs):\n",
        "    if easing_epochs:\n",
        "        for layer in model.layers[:-1]:\n",
        "            layer.trainable = False\n",
        "\n",
        "        model.compile(\n",
        "            optimizer=optimizer(lr),\n",
        "            loss=keras.losses.sparse_categorical_crossentropy,\n",
        "            metrics=[\n",
        "                keras.metrics.sparse_categorical_accuracy,\n",
        "            ],\n",
        "        )\n",
        "        \n",
        "        easing_reduce_lr_patience = min(1, easing_epochs // 3)\n",
        "        easing_early_stopping_patience = min(1, easing_epochs // 2)\n",
        "\n",
        "        model.fit(\n",
        "            x=train_dataset,\n",
        "            steps_per_epoch=math.ceil(train_dataset_length/train_batch_size),\n",
        "            validation_data=val_dataset,\n",
        "            validation_steps=math.ceil(val_dataset_length/val_batch_size),\n",
        "            epochs=easing_epochs,\n",
        "            callbacks=[\n",
        "                keras.callbacks.ReduceLROnPlateau(factor=0.3, patience=easing_reduce_lr_patience),\n",
        "                keras.callbacks.EarlyStopping(patience=easing_early_stopping_patience, restore_best_weights=True),  \n",
        "            ],\n",
        "            verbose=0,\n",
        "        )\n",
        "        \n",
        "        for layer in model.layers:\n",
        "            layer.trainable = True\n",
        "        \n",
        "    model.compile(\n",
        "        optimizer=optimizer(lr),\n",
        "        loss=keras.losses.sparse_categorical_crossentropy,\n",
        "        metrics=[\n",
        "            keras.metrics.sparse_categorical_accuracy,\n",
        "        ],\n",
        "    )\n",
        "    \n",
        "    reduce_lr_patience = max(5, epochs // 4)\n",
        "    early_stopping_patience = max(10, epochs // 2)\n",
        "\n",
        "    history = model.fit(\n",
        "        x=train_dataset,\n",
        "        steps_per_epoch=math.ceil(train_dataset_length/train_batch_size),\n",
        "        validation_data=val_dataset,\n",
        "        validation_steps=math.ceil(val_dataset_length/val_batch_size),\n",
        "        epochs=epochs,\n",
        "        callbacks=[\n",
        "            keras.callbacks.ReduceLROnPlateau(factor=0.3, patience=reduce_lr_patience),\n",
        "            keras.callbacks.EarlyStopping(patience=early_stopping_patience, restore_best_weights=True),  \n",
        "        ],\n",
        "        verbose=1,\n",
        "    )\n",
        "    \n",
        "    return history"
      ],
      "execution_count": 0,
      "outputs": []
    },
    {
      "cell_type": "code",
      "metadata": {
        "id": "O6W2PbDOQy8G",
        "colab_type": "code",
        "colab": {}
      },
      "source": [
        "input_shape = IMG_DIMS + (3,)\n",
        "\n",
        "@skopt.utils.use_named_args(dimensions=dimensions)\n",
        "def fitness(\n",
        "    optimizer,\n",
        "    lr,\n",
        "    dropout,\n",
        "    l1_reg,\n",
        "    l2_reg,\n",
        "    epochs,\n",
        "    easing_epochs,\n",
        "):  \n",
        "    model = make_model(\n",
        "        n_classes,\n",
        "        input_shape,\n",
        "        dropout,\n",
        "        l1_reg,\n",
        "        l2_reg,\n",
        "    )\n",
        "    \n",
        "    history = train_model(model, optimizer, lr, epochs, easing_epochs)\n",
        "\n",
        "    accuracy = max(history.history[\"val_sparse_categorical_accuracy\"])\n",
        "\n",
        "    print(\"\\nAccuracy: {0:.2%}\\n\".format(accuracy))\n",
        "\n",
        "    global best_accuracy\n",
        "\n",
        "    if accuracy > best_accuracy:\n",
        "        print('Best model'.center(80, '-'))\n",
        "        print(\"Accuracy: {0:.4%}\".format(accuracy))\n",
        "        print(\n",
        "            optimizer,\n",
        "            lr,\n",
        "            dropout,\n",
        "            l1_reg,\n",
        "            l2_reg,\n",
        "            epochs,\n",
        "            easing_epochs,\n",
        "        )\n",
        "        model.save_weights(best_model_weights_path)\n",
        "        with open(best_model_arch_path, \"w\") as f:\n",
        "            f.write(model.to_json())\n",
        "        best_accuracy = accuracy\n",
        "\n",
        "    del model\n",
        "\n",
        "    keras.backend.clear_session()\n",
        "\n",
        "    return -accuracy"
      ],
      "execution_count": 0,
      "outputs": []
    },
    {
      "cell_type": "code",
      "metadata": {
        "id": "ssid1Gu0Q1ZM",
        "colab_type": "code",
        "colab": {
          "base_uri": "https://localhost:8080/",
          "height": 396
        },
        "outputId": "cd26363f-9bbf-41e1-adeb-a8ba4d5b997d"
      },
      "source": [
        "search_result = skopt.gp_minimize(\n",
        "    func=fitness,\n",
        "    dimensions=dimensions,\n",
        "    acq_func='EI',\n",
        "    n_calls=15,\n",
        "    x0=default_parameters,\n",
        ")"
      ],
      "execution_count": 125,
      "outputs": [
        {
          "output_type": "error",
          "ename": "KeyboardInterrupt",
          "evalue": "ignored",
          "traceback": [
            "\u001b[0;31m---------------------------------------------------------------------------\u001b[0m",
            "\u001b[0;31mKeyboardInterrupt\u001b[0m                         Traceback (most recent call last)",
            "\u001b[0;32m<ipython-input-125-2a264e7f35f8>\u001b[0m in \u001b[0;36m<module>\u001b[0;34m()\u001b[0m\n\u001b[1;32m      4\u001b[0m     \u001b[0macq_func\u001b[0m\u001b[0;34m=\u001b[0m\u001b[0;34m'EI'\u001b[0m\u001b[0;34m,\u001b[0m\u001b[0;34m\u001b[0m\u001b[0;34m\u001b[0m\u001b[0m\n\u001b[1;32m      5\u001b[0m     \u001b[0mn_calls\u001b[0m\u001b[0;34m=\u001b[0m\u001b[0;36m15\u001b[0m\u001b[0;34m,\u001b[0m\u001b[0;34m\u001b[0m\u001b[0;34m\u001b[0m\u001b[0m\n\u001b[0;32m----> 6\u001b[0;31m     \u001b[0mx0\u001b[0m\u001b[0;34m=\u001b[0m\u001b[0mdefault_parameters\u001b[0m\u001b[0;34m,\u001b[0m\u001b[0;34m\u001b[0m\u001b[0;34m\u001b[0m\u001b[0m\n\u001b[0m\u001b[1;32m      7\u001b[0m )\n",
            "\u001b[0;32m/usr/local/lib/python3.6/dist-packages/skopt/optimizer/gp.py\u001b[0m in \u001b[0;36mgp_minimize\u001b[0;34m(func, dimensions, base_estimator, n_calls, n_random_starts, acq_func, acq_optimizer, x0, y0, random_state, verbose, callback, n_points, n_restarts_optimizer, xi, kappa, noise, n_jobs)\u001b[0m\n\u001b[1;32m    226\u001b[0m         \u001b[0mn_restarts_optimizer\u001b[0m\u001b[0;34m=\u001b[0m\u001b[0mn_restarts_optimizer\u001b[0m\u001b[0;34m,\u001b[0m\u001b[0;34m\u001b[0m\u001b[0;34m\u001b[0m\u001b[0m\n\u001b[1;32m    227\u001b[0m         \u001b[0mx0\u001b[0m\u001b[0;34m=\u001b[0m\u001b[0mx0\u001b[0m\u001b[0;34m,\u001b[0m \u001b[0my0\u001b[0m\u001b[0;34m=\u001b[0m\u001b[0my0\u001b[0m\u001b[0;34m,\u001b[0m \u001b[0mrandom_state\u001b[0m\u001b[0;34m=\u001b[0m\u001b[0mrng\u001b[0m\u001b[0;34m,\u001b[0m \u001b[0mverbose\u001b[0m\u001b[0;34m=\u001b[0m\u001b[0mverbose\u001b[0m\u001b[0;34m,\u001b[0m\u001b[0;34m\u001b[0m\u001b[0;34m\u001b[0m\u001b[0m\n\u001b[0;32m--> 228\u001b[0;31m         callback=callback, n_jobs=n_jobs)\n\u001b[0m",
            "\u001b[0;32m/usr/local/lib/python3.6/dist-packages/skopt/optimizer/base.py\u001b[0m in \u001b[0;36mbase_minimize\u001b[0;34m(func, dimensions, base_estimator, n_calls, n_random_starts, acq_func, acq_optimizer, x0, y0, random_state, verbose, callback, n_points, n_restarts_optimizer, xi, kappa, n_jobs)\u001b[0m\n\u001b[1;32m    246\u001b[0m     \u001b[0;32mfor\u001b[0m \u001b[0mn\u001b[0m \u001b[0;32min\u001b[0m \u001b[0mrange\u001b[0m\u001b[0;34m(\u001b[0m\u001b[0mn_calls\u001b[0m\u001b[0;34m)\u001b[0m\u001b[0;34m:\u001b[0m\u001b[0;34m\u001b[0m\u001b[0;34m\u001b[0m\u001b[0m\n\u001b[1;32m    247\u001b[0m         \u001b[0mnext_x\u001b[0m \u001b[0;34m=\u001b[0m \u001b[0moptimizer\u001b[0m\u001b[0;34m.\u001b[0m\u001b[0mask\u001b[0m\u001b[0;34m(\u001b[0m\u001b[0;34m)\u001b[0m\u001b[0;34m\u001b[0m\u001b[0;34m\u001b[0m\u001b[0m\n\u001b[0;32m--> 248\u001b[0;31m         \u001b[0mnext_y\u001b[0m \u001b[0;34m=\u001b[0m \u001b[0mfunc\u001b[0m\u001b[0;34m(\u001b[0m\u001b[0mnext_x\u001b[0m\u001b[0;34m)\u001b[0m\u001b[0;34m\u001b[0m\u001b[0;34m\u001b[0m\u001b[0m\n\u001b[0m\u001b[1;32m    249\u001b[0m         \u001b[0mresult\u001b[0m \u001b[0;34m=\u001b[0m \u001b[0moptimizer\u001b[0m\u001b[0;34m.\u001b[0m\u001b[0mtell\u001b[0m\u001b[0;34m(\u001b[0m\u001b[0mnext_x\u001b[0m\u001b[0;34m,\u001b[0m \u001b[0mnext_y\u001b[0m\u001b[0;34m)\u001b[0m\u001b[0;34m\u001b[0m\u001b[0;34m\u001b[0m\u001b[0m\n\u001b[1;32m    250\u001b[0m         \u001b[0mresult\u001b[0m\u001b[0;34m.\u001b[0m\u001b[0mspecs\u001b[0m \u001b[0;34m=\u001b[0m \u001b[0mspecs\u001b[0m\u001b[0;34m\u001b[0m\u001b[0;34m\u001b[0m\u001b[0m\n",
            "\u001b[0;32m/usr/local/lib/python3.6/dist-packages/skopt/utils.py\u001b[0m in \u001b[0;36mwrapper\u001b[0;34m(x)\u001b[0m\n\u001b[1;32m    634\u001b[0m \u001b[0;34m\u001b[0m\u001b[0m\n\u001b[1;32m    635\u001b[0m             \u001b[0;31m# Call the wrapped objective function with the named arguments.\u001b[0m\u001b[0;34m\u001b[0m\u001b[0;34m\u001b[0m\u001b[0;34m\u001b[0m\u001b[0m\n\u001b[0;32m--> 636\u001b[0;31m             \u001b[0mobjective_value\u001b[0m \u001b[0;34m=\u001b[0m \u001b[0mfunc\u001b[0m\u001b[0;34m(\u001b[0m\u001b[0;34m**\u001b[0m\u001b[0marg_dict\u001b[0m\u001b[0;34m)\u001b[0m\u001b[0;34m\u001b[0m\u001b[0;34m\u001b[0m\u001b[0m\n\u001b[0m\u001b[1;32m    637\u001b[0m \u001b[0;34m\u001b[0m\u001b[0m\n\u001b[1;32m    638\u001b[0m             \u001b[0;32mreturn\u001b[0m \u001b[0mobjective_value\u001b[0m\u001b[0;34m\u001b[0m\u001b[0;34m\u001b[0m\u001b[0m\n",
            "\u001b[0;32m<ipython-input-121-1bc459a54419>\u001b[0m in \u001b[0;36mfitness\u001b[0;34m(optimizer, lr, dropout, l1_reg, l2_reg, epochs, easing_epochs)\u001b[0m\n\u001b[1;32m     19\u001b[0m     )\n\u001b[1;32m     20\u001b[0m \u001b[0;34m\u001b[0m\u001b[0m\n\u001b[0;32m---> 21\u001b[0;31m     \u001b[0mhistory\u001b[0m \u001b[0;34m=\u001b[0m \u001b[0mtrain_model\u001b[0m\u001b[0;34m(\u001b[0m\u001b[0mmodel\u001b[0m\u001b[0;34m,\u001b[0m \u001b[0moptimizer\u001b[0m\u001b[0;34m,\u001b[0m \u001b[0mlr\u001b[0m\u001b[0;34m,\u001b[0m \u001b[0mepochs\u001b[0m\u001b[0;34m,\u001b[0m \u001b[0measing_epochs\u001b[0m\u001b[0;34m)\u001b[0m\u001b[0;34m\u001b[0m\u001b[0;34m\u001b[0m\u001b[0m\n\u001b[0m\u001b[1;32m     22\u001b[0m \u001b[0;34m\u001b[0m\u001b[0m\n\u001b[1;32m     23\u001b[0m     \u001b[0maccuracy\u001b[0m \u001b[0;34m=\u001b[0m \u001b[0mmax\u001b[0m\u001b[0;34m(\u001b[0m\u001b[0mhistory\u001b[0m\u001b[0;34m.\u001b[0m\u001b[0mhistory\u001b[0m\u001b[0;34m[\u001b[0m\u001b[0;34m\"val_sparse_categorical_accuracy\"\u001b[0m\u001b[0;34m]\u001b[0m\u001b[0;34m)\u001b[0m\u001b[0;34m\u001b[0m\u001b[0;34m\u001b[0m\u001b[0m\n",
            "\u001b[0;32m<ipython-input-120-9eb816432c3b>\u001b[0m in \u001b[0;36mtrain_model\u001b[0;34m(model, optimizer, lr, epochs, easing_epochs)\u001b[0m\n\u001b[1;32m     52\u001b[0m             \u001b[0mkeras\u001b[0m\u001b[0;34m.\u001b[0m\u001b[0mcallbacks\u001b[0m\u001b[0;34m.\u001b[0m\u001b[0mEarlyStopping\u001b[0m\u001b[0;34m(\u001b[0m\u001b[0mpatience\u001b[0m\u001b[0;34m=\u001b[0m\u001b[0mearly_stopping_patience\u001b[0m\u001b[0;34m,\u001b[0m \u001b[0mrestore_best_weights\u001b[0m\u001b[0;34m=\u001b[0m\u001b[0;32mTrue\u001b[0m\u001b[0;34m)\u001b[0m\u001b[0;34m,\u001b[0m\u001b[0;34m\u001b[0m\u001b[0;34m\u001b[0m\u001b[0m\n\u001b[1;32m     53\u001b[0m         ],\n\u001b[0;32m---> 54\u001b[0;31m         \u001b[0mverbose\u001b[0m\u001b[0;34m=\u001b[0m\u001b[0;36m1\u001b[0m\u001b[0;34m,\u001b[0m\u001b[0;34m\u001b[0m\u001b[0;34m\u001b[0m\u001b[0m\n\u001b[0m\u001b[1;32m     55\u001b[0m     )\n\u001b[1;32m     56\u001b[0m \u001b[0;34m\u001b[0m\u001b[0m\n",
            "\u001b[0;32m/usr/local/lib/python3.6/dist-packages/tensorflow/python/keras/engine/training.py\u001b[0m in \u001b[0;36mfit\u001b[0;34m(self, x, y, batch_size, epochs, verbose, callbacks, validation_split, validation_data, shuffle, class_weight, sample_weight, initial_epoch, steps_per_epoch, validation_steps, validation_freq, max_queue_size, workers, use_multiprocessing, **kwargs)\u001b[0m\n\u001b[1;32m    641\u001b[0m         \u001b[0mmax_queue_size\u001b[0m\u001b[0;34m=\u001b[0m\u001b[0mmax_queue_size\u001b[0m\u001b[0;34m,\u001b[0m\u001b[0;34m\u001b[0m\u001b[0;34m\u001b[0m\u001b[0m\n\u001b[1;32m    642\u001b[0m         \u001b[0mworkers\u001b[0m\u001b[0;34m=\u001b[0m\u001b[0mworkers\u001b[0m\u001b[0;34m,\u001b[0m\u001b[0;34m\u001b[0m\u001b[0;34m\u001b[0m\u001b[0m\n\u001b[0;32m--> 643\u001b[0;31m         use_multiprocessing=use_multiprocessing)\n\u001b[0m\u001b[1;32m    644\u001b[0m \u001b[0;34m\u001b[0m\u001b[0m\n\u001b[1;32m    645\u001b[0m   def evaluate(self,\n",
            "\u001b[0;32m/usr/local/lib/python3.6/dist-packages/tensorflow/python/keras/engine/training_generator.py\u001b[0m in \u001b[0;36mfit\u001b[0;34m(self, model, x, y, batch_size, epochs, verbose, callbacks, validation_split, validation_data, shuffle, class_weight, sample_weight, initial_epoch, steps_per_epoch, validation_steps, validation_freq, **kwargs)\u001b[0m\n\u001b[1;32m    692\u001b[0m         \u001b[0mshuffle\u001b[0m\u001b[0;34m=\u001b[0m\u001b[0mshuffle\u001b[0m\u001b[0;34m,\u001b[0m\u001b[0;34m\u001b[0m\u001b[0;34m\u001b[0m\u001b[0m\n\u001b[1;32m    693\u001b[0m         \u001b[0minitial_epoch\u001b[0m\u001b[0;34m=\u001b[0m\u001b[0minitial_epoch\u001b[0m\u001b[0;34m,\u001b[0m\u001b[0;34m\u001b[0m\u001b[0;34m\u001b[0m\u001b[0m\n\u001b[0;32m--> 694\u001b[0;31m         steps_name='steps_per_epoch')\n\u001b[0m\u001b[1;32m    695\u001b[0m \u001b[0;34m\u001b[0m\u001b[0m\n\u001b[1;32m    696\u001b[0m   def evaluate(self,\n",
            "\u001b[0;32m/usr/local/lib/python3.6/dist-packages/tensorflow/python/keras/engine/training_generator.py\u001b[0m in \u001b[0;36mmodel_iteration\u001b[0;34m(model, data, steps_per_epoch, epochs, verbose, callbacks, validation_data, validation_steps, validation_freq, class_weight, max_queue_size, workers, use_multiprocessing, shuffle, initial_epoch, mode, batch_size, steps_name, **kwargs)\u001b[0m\n\u001b[1;32m    262\u001b[0m \u001b[0;34m\u001b[0m\u001b[0m\n\u001b[1;32m    263\u001b[0m       \u001b[0mis_deferred\u001b[0m \u001b[0;34m=\u001b[0m \u001b[0;32mnot\u001b[0m \u001b[0mmodel\u001b[0m\u001b[0;34m.\u001b[0m\u001b[0m_is_compiled\u001b[0m\u001b[0;34m\u001b[0m\u001b[0;34m\u001b[0m\u001b[0m\n\u001b[0;32m--> 264\u001b[0;31m       \u001b[0mbatch_outs\u001b[0m \u001b[0;34m=\u001b[0m \u001b[0mbatch_function\u001b[0m\u001b[0;34m(\u001b[0m\u001b[0;34m*\u001b[0m\u001b[0mbatch_data\u001b[0m\u001b[0;34m)\u001b[0m\u001b[0;34m\u001b[0m\u001b[0;34m\u001b[0m\u001b[0m\n\u001b[0m\u001b[1;32m    265\u001b[0m       \u001b[0;32mif\u001b[0m \u001b[0;32mnot\u001b[0m \u001b[0misinstance\u001b[0m\u001b[0;34m(\u001b[0m\u001b[0mbatch_outs\u001b[0m\u001b[0;34m,\u001b[0m \u001b[0mlist\u001b[0m\u001b[0;34m)\u001b[0m\u001b[0;34m:\u001b[0m\u001b[0;34m\u001b[0m\u001b[0;34m\u001b[0m\u001b[0m\n\u001b[1;32m    266\u001b[0m         \u001b[0mbatch_outs\u001b[0m \u001b[0;34m=\u001b[0m \u001b[0;34m[\u001b[0m\u001b[0mbatch_outs\u001b[0m\u001b[0;34m]\u001b[0m\u001b[0;34m\u001b[0m\u001b[0;34m\u001b[0m\u001b[0m\n",
            "\u001b[0;32m/usr/local/lib/python3.6/dist-packages/tensorflow/python/keras/engine/training.py\u001b[0m in \u001b[0;36mtrain_on_batch\u001b[0;34m(self, x, y, sample_weight, class_weight, reset_metrics)\u001b[0m\n\u001b[1;32m    916\u001b[0m       \u001b[0mself\u001b[0m\u001b[0;34m.\u001b[0m\u001b[0m_update_sample_weight_modes\u001b[0m\u001b[0;34m(\u001b[0m\u001b[0msample_weights\u001b[0m\u001b[0;34m=\u001b[0m\u001b[0msample_weights\u001b[0m\u001b[0;34m)\u001b[0m\u001b[0;34m\u001b[0m\u001b[0;34m\u001b[0m\u001b[0m\n\u001b[1;32m    917\u001b[0m       \u001b[0mself\u001b[0m\u001b[0;34m.\u001b[0m\u001b[0m_make_train_function\u001b[0m\u001b[0;34m(\u001b[0m\u001b[0;34m)\u001b[0m\u001b[0;34m\u001b[0m\u001b[0;34m\u001b[0m\u001b[0m\n\u001b[0;32m--> 918\u001b[0;31m       \u001b[0moutputs\u001b[0m \u001b[0;34m=\u001b[0m \u001b[0mself\u001b[0m\u001b[0;34m.\u001b[0m\u001b[0mtrain_function\u001b[0m\u001b[0;34m(\u001b[0m\u001b[0mins\u001b[0m\u001b[0;34m)\u001b[0m  \u001b[0;31m# pylint: disable=not-callable\u001b[0m\u001b[0;34m\u001b[0m\u001b[0;34m\u001b[0m\u001b[0m\n\u001b[0m\u001b[1;32m    919\u001b[0m \u001b[0;34m\u001b[0m\u001b[0m\n\u001b[1;32m    920\u001b[0m     \u001b[0;32mif\u001b[0m \u001b[0mreset_metrics\u001b[0m\u001b[0;34m:\u001b[0m\u001b[0;34m\u001b[0m\u001b[0;34m\u001b[0m\u001b[0m\n",
            "\u001b[0;32m/usr/local/lib/python3.6/dist-packages/tensorflow/python/keras/backend.py\u001b[0m in \u001b[0;36m__call__\u001b[0;34m(self, inputs)\u001b[0m\n\u001b[1;32m   3508\u001b[0m         \u001b[0mvalue\u001b[0m \u001b[0;34m=\u001b[0m \u001b[0mmath_ops\u001b[0m\u001b[0;34m.\u001b[0m\u001b[0mcast\u001b[0m\u001b[0;34m(\u001b[0m\u001b[0mvalue\u001b[0m\u001b[0;34m,\u001b[0m \u001b[0mtensor\u001b[0m\u001b[0;34m.\u001b[0m\u001b[0mdtype\u001b[0m\u001b[0;34m)\u001b[0m\u001b[0;34m\u001b[0m\u001b[0;34m\u001b[0m\u001b[0m\n\u001b[1;32m   3509\u001b[0m       \u001b[0mconverted_inputs\u001b[0m\u001b[0;34m.\u001b[0m\u001b[0mappend\u001b[0m\u001b[0;34m(\u001b[0m\u001b[0mvalue\u001b[0m\u001b[0;34m)\u001b[0m\u001b[0;34m\u001b[0m\u001b[0;34m\u001b[0m\u001b[0m\n\u001b[0;32m-> 3510\u001b[0;31m     \u001b[0moutputs\u001b[0m \u001b[0;34m=\u001b[0m \u001b[0mself\u001b[0m\u001b[0;34m.\u001b[0m\u001b[0m_graph_fn\u001b[0m\u001b[0;34m(\u001b[0m\u001b[0;34m*\u001b[0m\u001b[0mconverted_inputs\u001b[0m\u001b[0;34m)\u001b[0m\u001b[0;34m\u001b[0m\u001b[0;34m\u001b[0m\u001b[0m\n\u001b[0m\u001b[1;32m   3511\u001b[0m \u001b[0;34m\u001b[0m\u001b[0m\n\u001b[1;32m   3512\u001b[0m     \u001b[0;31m# EagerTensor.numpy() will often make a copy to ensure memory safety.\u001b[0m\u001b[0;34m\u001b[0m\u001b[0;34m\u001b[0m\u001b[0;34m\u001b[0m\u001b[0m\n",
            "\u001b[0;32m/usr/local/lib/python3.6/dist-packages/tensorflow/python/eager/function.py\u001b[0m in \u001b[0;36m__call__\u001b[0;34m(self, *args, **kwargs)\u001b[0m\n\u001b[1;32m    570\u001b[0m       raise TypeError(\"Keyword arguments {} unknown. Expected {}.\".format(\n\u001b[1;32m    571\u001b[0m           list(kwargs.keys()), list(self._arg_keywords)))\n\u001b[0;32m--> 572\u001b[0;31m     \u001b[0;32mreturn\u001b[0m \u001b[0mself\u001b[0m\u001b[0;34m.\u001b[0m\u001b[0m_call_flat\u001b[0m\u001b[0;34m(\u001b[0m\u001b[0margs\u001b[0m\u001b[0;34m)\u001b[0m\u001b[0;34m\u001b[0m\u001b[0;34m\u001b[0m\u001b[0m\n\u001b[0m\u001b[1;32m    573\u001b[0m \u001b[0;34m\u001b[0m\u001b[0m\n\u001b[1;32m    574\u001b[0m   \u001b[0;32mdef\u001b[0m \u001b[0m_filtered_call\u001b[0m\u001b[0;34m(\u001b[0m\u001b[0mself\u001b[0m\u001b[0;34m,\u001b[0m \u001b[0margs\u001b[0m\u001b[0;34m,\u001b[0m \u001b[0mkwargs\u001b[0m\u001b[0;34m)\u001b[0m\u001b[0;34m:\u001b[0m\u001b[0;34m\u001b[0m\u001b[0;34m\u001b[0m\u001b[0m\n",
            "\u001b[0;32m/usr/local/lib/python3.6/dist-packages/tensorflow/python/eager/function.py\u001b[0m in \u001b[0;36m_call_flat\u001b[0;34m(self, args)\u001b[0m\n\u001b[1;32m    669\u001b[0m     \u001b[0;31m# Only need to override the gradient in graph mode and when we have outputs.\u001b[0m\u001b[0;34m\u001b[0m\u001b[0;34m\u001b[0m\u001b[0;34m\u001b[0m\u001b[0m\n\u001b[1;32m    670\u001b[0m     \u001b[0;32mif\u001b[0m \u001b[0mcontext\u001b[0m\u001b[0;34m.\u001b[0m\u001b[0mexecuting_eagerly\u001b[0m\u001b[0;34m(\u001b[0m\u001b[0;34m)\u001b[0m \u001b[0;32mor\u001b[0m \u001b[0;32mnot\u001b[0m \u001b[0mself\u001b[0m\u001b[0;34m.\u001b[0m\u001b[0moutputs\u001b[0m\u001b[0;34m:\u001b[0m\u001b[0;34m\u001b[0m\u001b[0;34m\u001b[0m\u001b[0m\n\u001b[0;32m--> 671\u001b[0;31m       \u001b[0moutputs\u001b[0m \u001b[0;34m=\u001b[0m \u001b[0mself\u001b[0m\u001b[0;34m.\u001b[0m\u001b[0m_inference_function\u001b[0m\u001b[0;34m.\u001b[0m\u001b[0mcall\u001b[0m\u001b[0;34m(\u001b[0m\u001b[0mctx\u001b[0m\u001b[0;34m,\u001b[0m \u001b[0margs\u001b[0m\u001b[0;34m)\u001b[0m\u001b[0;34m\u001b[0m\u001b[0;34m\u001b[0m\u001b[0m\n\u001b[0m\u001b[1;32m    672\u001b[0m     \u001b[0;32melse\u001b[0m\u001b[0;34m:\u001b[0m\u001b[0;34m\u001b[0m\u001b[0;34m\u001b[0m\u001b[0m\n\u001b[1;32m    673\u001b[0m       \u001b[0mself\u001b[0m\u001b[0;34m.\u001b[0m\u001b[0m_register_gradient\u001b[0m\u001b[0;34m(\u001b[0m\u001b[0;34m)\u001b[0m\u001b[0;34m\u001b[0m\u001b[0;34m\u001b[0m\u001b[0m\n",
            "\u001b[0;32m/usr/local/lib/python3.6/dist-packages/tensorflow/python/eager/function.py\u001b[0m in \u001b[0;36mcall\u001b[0;34m(self, ctx, args)\u001b[0m\n\u001b[1;32m    443\u001b[0m             attrs=(\"executor_type\", executor_type,\n\u001b[1;32m    444\u001b[0m                    \"config_proto\", config),\n\u001b[0;32m--> 445\u001b[0;31m             ctx=ctx)\n\u001b[0m\u001b[1;32m    446\u001b[0m       \u001b[0;31m# Replace empty list with None\u001b[0m\u001b[0;34m\u001b[0m\u001b[0;34m\u001b[0m\u001b[0;34m\u001b[0m\u001b[0m\n\u001b[1;32m    447\u001b[0m       \u001b[0moutputs\u001b[0m \u001b[0;34m=\u001b[0m \u001b[0moutputs\u001b[0m \u001b[0;32mor\u001b[0m \u001b[0;32mNone\u001b[0m\u001b[0;34m\u001b[0m\u001b[0;34m\u001b[0m\u001b[0m\n",
            "\u001b[0;32m/usr/local/lib/python3.6/dist-packages/tensorflow/python/eager/execute.py\u001b[0m in \u001b[0;36mquick_execute\u001b[0;34m(op_name, num_outputs, inputs, attrs, ctx, name)\u001b[0m\n\u001b[1;32m     59\u001b[0m     tensors = pywrap_tensorflow.TFE_Py_Execute(ctx._handle, device_name,\n\u001b[1;32m     60\u001b[0m                                                \u001b[0mop_name\u001b[0m\u001b[0;34m,\u001b[0m \u001b[0minputs\u001b[0m\u001b[0;34m,\u001b[0m \u001b[0mattrs\u001b[0m\u001b[0;34m,\u001b[0m\u001b[0;34m\u001b[0m\u001b[0;34m\u001b[0m\u001b[0m\n\u001b[0;32m---> 61\u001b[0;31m                                                num_outputs)\n\u001b[0m\u001b[1;32m     62\u001b[0m   \u001b[0;32mexcept\u001b[0m \u001b[0mcore\u001b[0m\u001b[0;34m.\u001b[0m\u001b[0m_NotOkStatusException\u001b[0m \u001b[0;32mas\u001b[0m \u001b[0me\u001b[0m\u001b[0;34m:\u001b[0m\u001b[0;34m\u001b[0m\u001b[0;34m\u001b[0m\u001b[0m\n\u001b[1;32m     63\u001b[0m     \u001b[0;32mif\u001b[0m \u001b[0mname\u001b[0m \u001b[0;32mis\u001b[0m \u001b[0;32mnot\u001b[0m \u001b[0;32mNone\u001b[0m\u001b[0;34m:\u001b[0m\u001b[0;34m\u001b[0m\u001b[0;34m\u001b[0m\u001b[0m\n",
            "\u001b[0;31mKeyboardInterrupt\u001b[0m: "
          ]
        }
      ]
    },
    {
      "cell_type": "code",
      "metadata": {
        "id": "_7cwPCOIQ28r",
        "colab_type": "code",
        "colab": {}
      },
      "source": [
        "\n",
        "\n",
        "def load_model(arch, weights):\n",
        "    with open(arch, \"r\") as f:\n",
        "        model = keras.models.model_from_json(f.read())\n",
        "    model.load_weights(weights)\n",
        "    return model\n",
        "\n"
      ],
      "execution_count": 0,
      "outputs": []
    },
    {
      "cell_type": "code",
      "metadata": {
        "id": "DKsPhVDK2yo_",
        "colab_type": "code",
        "colab": {}
      },
      "source": [
        "model = load_model(best_model_arch_path, best_model_weights_path)"
      ],
      "execution_count": 0,
      "outputs": []
    },
    {
      "cell_type": "code",
      "metadata": {
        "id": "bIR5otTU2zQs",
        "colab_type": "code",
        "colab": {}
      },
      "source": [
        "\n",
        "\n",
        "model.compile(\n",
        "    optimizer=keras.optimizers.SGD(1),\n",
        "    loss=keras.losses.sparse_categorical_crossentropy,\n",
        "    metrics=[\n",
        "        keras.metrics.sparse_categorical_accuracy,\n",
        "    ],\n",
        ")\n",
        "\n"
      ],
      "execution_count": 0,
      "outputs": []
    },
    {
      "cell_type": "code",
      "metadata": {
        "id": "Q1mHX4eY23i4",
        "colab_type": "code",
        "colab": {
          "base_uri": "https://localhost:8080/",
          "height": 53
        },
        "outputId": "4f32b4b2-ffb7-46d0-d3bb-2efc2f0c86a5"
      },
      "source": [
        "model.evaluate(val_dataset, steps=math.ceil(val_dataset_length/val_batch_size))"
      ],
      "execution_count": 129,
      "outputs": [
        {
          "output_type": "stream",
          "text": [
            "33/33 [==============================] - 3s 85ms/step - loss: 0.7340 - sparse_categorical_accuracy: 0.7664\n"
          ],
          "name": "stdout"
        },
        {
          "output_type": "execute_result",
          "data": {
            "text/plain": [
              "[0.7339698559407032, 0.7664093]"
            ]
          },
          "metadata": {
            "tags": []
          },
          "execution_count": 129
        }
      ]
    },
    {
      "cell_type": "code",
      "metadata": {
        "id": "wTJwm_sD31le",
        "colab_type": "code",
        "colab": {}
      },
      "source": [
        "\n",
        "\n",
        "val_predictions = model.predict(\n",
        "    val_dataset,\n",
        "    steps=math.ceil(val_dataset_length/val_batch_size),\n",
        ")\n",
        "\n"
      ],
      "execution_count": 0,
      "outputs": []
    },
    {
      "cell_type": "code",
      "metadata": {
        "id": "_NlrBXXw39Dj",
        "colab_type": "code",
        "colab": {}
      },
      "source": [
        "val_labels = np.concatenate([\n",
        "    y.numpy() for _, y in val_dataset.take(math.ceil(val_dataset_length/val_batch_size))\n",
        "])"
      ],
      "execution_count": 0,
      "outputs": []
    },
    {
      "cell_type": "code",
      "metadata": {
        "id": "zxTNB5yI3-2l",
        "colab_type": "code",
        "colab": {
          "base_uri": "https://localhost:8080/",
          "height": 253
        },
        "outputId": "8feea1de-3fe0-4cb1-d97d-5a429354ad70"
      },
      "source": [
        "print(classification_report(val_labels, val_predictions.argmax(axis=1)))"
      ],
      "execution_count": 132,
      "outputs": [
        {
          "output_type": "stream",
          "text": [
            "              precision    recall  f1-score   support\n",
            "\n",
            "         0.0       1.00      0.02      0.05        43\n",
            "         1.0       0.85      0.70      0.77        47\n",
            "         2.0       0.54      0.35      0.43        57\n",
            "         3.0       0.86      0.93      0.89       344\n",
            "         4.0       0.34      0.92      0.50        25\n",
            "         5.0       0.00      0.00      0.00         2\n",
            "\n",
            "    accuracy                           0.77       518\n",
            "   macro avg       0.60      0.49      0.44       518\n",
            "weighted avg       0.81      0.77      0.74       518\n",
            "\n"
          ],
          "name": "stdout"
        }
      ]
    },
    {
      "cell_type": "code",
      "metadata": {
        "id": "V6doVT7n4ALV",
        "colab_type": "code",
        "colab": {}
      },
      "source": [
        "\n",
        "\n",
        "test_predictions = model.predict(\n",
        "    test_dataset,\n",
        "    steps=math.ceil(test_dataset_length/test_batch_size),\n",
        ")\n",
        "\n"
      ],
      "execution_count": 0,
      "outputs": []
    },
    {
      "cell_type": "code",
      "metadata": {
        "id": "JnoMemYh4ESG",
        "colab_type": "code",
        "colab": {}
      },
      "source": [
        "test_labels = np.concatenate([\n",
        "    y.numpy() for _, y in test_dataset.take(math.ceil(test_dataset_length/test_batch_size))\n",
        "])"
      ],
      "execution_count": 0,
      "outputs": []
    },
    {
      "cell_type": "code",
      "metadata": {
        "id": "UWGb4yqR4F8a",
        "colab_type": "code",
        "colab": {
          "base_uri": "https://localhost:8080/",
          "height": 253
        },
        "outputId": "5a5deba1-2b41-4e17-e11d-593b0aee1b76"
      },
      "source": [
        "print(classification_report(test_labels, test_predictions.argmax(axis=1)))"
      ],
      "execution_count": 135,
      "outputs": [
        {
          "output_type": "stream",
          "text": [
            "              precision    recall  f1-score   support\n",
            "\n",
            "         0.0       1.00      0.04      0.07        52\n",
            "         1.0       0.94      0.72      0.81        46\n",
            "         2.0       0.50      0.39      0.44        51\n",
            "         3.0       0.85      0.93      0.89       348\n",
            "         4.0       0.27      0.94      0.42        16\n",
            "         5.0       0.25      0.25      0.25         4\n",
            "\n",
            "    accuracy                           0.76       517\n",
            "   macro avg       0.64      0.54      0.48       517\n",
            "weighted avg       0.82      0.76      0.74       517\n",
            "\n"
          ],
          "name": "stdout"
        }
      ]
    },
    {
      "cell_type": "code",
      "metadata": {
        "id": "UVQNHkKd4HHa",
        "colab_type": "code",
        "colab": {}
      },
      "source": [
        "IMG_DIMS = "
      ],
      "execution_count": 0,
      "outputs": []
    }
  ]
}